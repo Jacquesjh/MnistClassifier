{
  "nbformat": 4,
  "nbformat_minor": 0,
  "metadata": {
    "colab": {
      "name": "MNIST CNN",
      "provenance": [],
      "collapsed_sections": [],
      "mount_file_id": "1i19Y592pnWYJ_B9iLTNsqwnRce583-o5",
      "authorship_tag": "ABX9TyN93chH7UJglk/SvHaFLztl",
      "include_colab_link": true
    },
    "kernelspec": {
      "name": "python3",
      "display_name": "Python 3"
    },
    "accelerator": "GPU",
    "widgets": {
      "application/vnd.jupyter.widget-state+json": {
        "6b20cc2a20824963a089cae469b6d382": {
          "model_module": "@jupyter-widgets/controls",
          "model_name": "HBoxModel",
          "state": {
            "_view_name": "HBoxView",
            "_dom_classes": [],
            "_model_name": "HBoxModel",
            "_view_module": "@jupyter-widgets/controls",
            "_model_module_version": "1.5.0",
            "_view_count": null,
            "_view_module_version": "1.5.0",
            "box_style": "",
            "layout": "IPY_MODEL_22707e82d859481ba16b2bc4ebd5064e",
            "_model_module": "@jupyter-widgets/controls",
            "children": [
              "IPY_MODEL_2cd60376c77b4b5bb05df5f0c13f5977",
              "IPY_MODEL_cf37c24e955b4919873f107eabf8000d"
            ]
          }
        },
        "22707e82d859481ba16b2bc4ebd5064e": {
          "model_module": "@jupyter-widgets/base",
          "model_name": "LayoutModel",
          "state": {
            "_view_name": "LayoutView",
            "grid_template_rows": null,
            "right": null,
            "justify_content": null,
            "_view_module": "@jupyter-widgets/base",
            "overflow": null,
            "_model_module_version": "1.2.0",
            "_view_count": null,
            "flex_flow": null,
            "width": null,
            "min_width": null,
            "border": null,
            "align_items": null,
            "bottom": null,
            "_model_module": "@jupyter-widgets/base",
            "top": null,
            "grid_column": null,
            "overflow_y": null,
            "overflow_x": null,
            "grid_auto_flow": null,
            "grid_area": null,
            "grid_template_columns": null,
            "flex": null,
            "_model_name": "LayoutModel",
            "justify_items": null,
            "grid_row": null,
            "max_height": null,
            "align_content": null,
            "visibility": null,
            "align_self": null,
            "height": null,
            "min_height": null,
            "padding": null,
            "grid_auto_rows": null,
            "grid_gap": null,
            "max_width": null,
            "order": null,
            "_view_module_version": "1.2.0",
            "grid_template_areas": null,
            "object_position": null,
            "object_fit": null,
            "grid_auto_columns": null,
            "margin": null,
            "display": null,
            "left": null
          }
        },
        "2cd60376c77b4b5bb05df5f0c13f5977": {
          "model_module": "@jupyter-widgets/controls",
          "model_name": "FloatProgressModel",
          "state": {
            "_view_name": "ProgressView",
            "style": "IPY_MODEL_5d2b4db8e03f4dcc842821ed012a012b",
            "_dom_classes": [],
            "description": "Dl Completed...: 100%",
            "_model_name": "FloatProgressModel",
            "bar_style": "success",
            "max": 4,
            "_view_module": "@jupyter-widgets/controls",
            "_model_module_version": "1.5.0",
            "value": 4,
            "_view_count": null,
            "_view_module_version": "1.5.0",
            "orientation": "horizontal",
            "min": 0,
            "description_tooltip": null,
            "_model_module": "@jupyter-widgets/controls",
            "layout": "IPY_MODEL_f370cfbd3027421c94fec13b993b59ac"
          }
        },
        "cf37c24e955b4919873f107eabf8000d": {
          "model_module": "@jupyter-widgets/controls",
          "model_name": "HTMLModel",
          "state": {
            "_view_name": "HTMLView",
            "style": "IPY_MODEL_6a13517dc6b244a0ac0e37a29d1cbfe9",
            "_dom_classes": [],
            "description": "",
            "_model_name": "HTMLModel",
            "placeholder": "​",
            "_view_module": "@jupyter-widgets/controls",
            "_model_module_version": "1.5.0",
            "value": " 4/4 [00:05&lt;00:00,  1.42s/ file]",
            "_view_count": null,
            "_view_module_version": "1.5.0",
            "description_tooltip": null,
            "_model_module": "@jupyter-widgets/controls",
            "layout": "IPY_MODEL_e9f9e530137a4e3db346e67be8947949"
          }
        },
        "5d2b4db8e03f4dcc842821ed012a012b": {
          "model_module": "@jupyter-widgets/controls",
          "model_name": "ProgressStyleModel",
          "state": {
            "_view_name": "StyleView",
            "_model_name": "ProgressStyleModel",
            "description_width": "initial",
            "_view_module": "@jupyter-widgets/base",
            "_model_module_version": "1.5.0",
            "_view_count": null,
            "_view_module_version": "1.2.0",
            "bar_color": null,
            "_model_module": "@jupyter-widgets/controls"
          }
        },
        "f370cfbd3027421c94fec13b993b59ac": {
          "model_module": "@jupyter-widgets/base",
          "model_name": "LayoutModel",
          "state": {
            "_view_name": "LayoutView",
            "grid_template_rows": null,
            "right": null,
            "justify_content": null,
            "_view_module": "@jupyter-widgets/base",
            "overflow": null,
            "_model_module_version": "1.2.0",
            "_view_count": null,
            "flex_flow": null,
            "width": null,
            "min_width": null,
            "border": null,
            "align_items": null,
            "bottom": null,
            "_model_module": "@jupyter-widgets/base",
            "top": null,
            "grid_column": null,
            "overflow_y": null,
            "overflow_x": null,
            "grid_auto_flow": null,
            "grid_area": null,
            "grid_template_columns": null,
            "flex": null,
            "_model_name": "LayoutModel",
            "justify_items": null,
            "grid_row": null,
            "max_height": null,
            "align_content": null,
            "visibility": null,
            "align_self": null,
            "height": null,
            "min_height": null,
            "padding": null,
            "grid_auto_rows": null,
            "grid_gap": null,
            "max_width": null,
            "order": null,
            "_view_module_version": "1.2.0",
            "grid_template_areas": null,
            "object_position": null,
            "object_fit": null,
            "grid_auto_columns": null,
            "margin": null,
            "display": null,
            "left": null
          }
        },
        "6a13517dc6b244a0ac0e37a29d1cbfe9": {
          "model_module": "@jupyter-widgets/controls",
          "model_name": "DescriptionStyleModel",
          "state": {
            "_view_name": "StyleView",
            "_model_name": "DescriptionStyleModel",
            "description_width": "",
            "_view_module": "@jupyter-widgets/base",
            "_model_module_version": "1.5.0",
            "_view_count": null,
            "_view_module_version": "1.2.0",
            "_model_module": "@jupyter-widgets/controls"
          }
        },
        "e9f9e530137a4e3db346e67be8947949": {
          "model_module": "@jupyter-widgets/base",
          "model_name": "LayoutModel",
          "state": {
            "_view_name": "LayoutView",
            "grid_template_rows": null,
            "right": null,
            "justify_content": null,
            "_view_module": "@jupyter-widgets/base",
            "overflow": null,
            "_model_module_version": "1.2.0",
            "_view_count": null,
            "flex_flow": null,
            "width": null,
            "min_width": null,
            "border": null,
            "align_items": null,
            "bottom": null,
            "_model_module": "@jupyter-widgets/base",
            "top": null,
            "grid_column": null,
            "overflow_y": null,
            "overflow_x": null,
            "grid_auto_flow": null,
            "grid_area": null,
            "grid_template_columns": null,
            "flex": null,
            "_model_name": "LayoutModel",
            "justify_items": null,
            "grid_row": null,
            "max_height": null,
            "align_content": null,
            "visibility": null,
            "align_self": null,
            "height": null,
            "min_height": null,
            "padding": null,
            "grid_auto_rows": null,
            "grid_gap": null,
            "max_width": null,
            "order": null,
            "_view_module_version": "1.2.0",
            "grid_template_areas": null,
            "object_position": null,
            "object_fit": null,
            "grid_auto_columns": null,
            "margin": null,
            "display": null,
            "left": null
          }
        }
      }
    }
  },
  "cells": [
    {
      "cell_type": "markdown",
      "metadata": {
        "id": "view-in-github",
        "colab_type": "text"
      },
      "source": [
        "<a href=\"https://colab.research.google.com/github/Jacquesjh/MnistClassifier/blob/main/MNIST_CNN.ipynb\" target=\"_parent\"><img src=\"https://colab.research.google.com/assets/colab-badge.svg\" alt=\"Open In Colab\"/></a>"
      ]
    },
    {
      "cell_type": "code",
      "metadata": {
        "colab": {
          "base_uri": "https://localhost:8080/"
        },
        "id": "QX72uRUd_PNK",
        "outputId": "fe784793-dfeb-4884-f86d-3cc936a76805"
      },
      "source": [
        "%cd /content/drive/MyDrive/Machine Learning/Mnist"
      ],
      "execution_count": 2,
      "outputs": [
        {
          "output_type": "stream",
          "text": [
            "/content/drive/MyDrive/Machine Learning/Mnist\n"
          ],
          "name": "stdout"
        }
      ]
    },
    {
      "cell_type": "markdown",
      "metadata": {
        "id": "LO_5xeV8-mj8"
      },
      "source": [
        "#Vamos começar importando o Mnist dataset, e então iremos pré processar seus dados, preparando-os para nossa rede neural"
      ]
    },
    {
      "cell_type": "code",
      "metadata": {
        "id": "vAWccKdq-kdd"
      },
      "source": [
        "import tensorflow as tf\r\n",
        "import numpy as np\r\n",
        "import matplotlib as mpl\r\n",
        "import tensorflow_datasets as tfds"
      ],
      "execution_count": 3,
      "outputs": []
    },
    {
      "cell_type": "markdown",
      "metadata": {
        "id": "cIQjHqJZ-dze"
      },
      "source": [
        "###Fazendo o download do nosso dataset"
      ]
    },
    {
      "cell_type": "code",
      "metadata": {
        "id": "6C8XQYhiBABN",
        "colab": {
          "base_uri": "https://localhost:8080/",
          "height": 202,
          "referenced_widgets": [
            "6b20cc2a20824963a089cae469b6d382",
            "22707e82d859481ba16b2bc4ebd5064e",
            "2cd60376c77b4b5bb05df5f0c13f5977",
            "cf37c24e955b4919873f107eabf8000d",
            "5d2b4db8e03f4dcc842821ed012a012b",
            "f370cfbd3027421c94fec13b993b59ac",
            "6a13517dc6b244a0ac0e37a29d1cbfe9",
            "e9f9e530137a4e3db346e67be8947949"
          ]
        },
        "outputId": "657d9139-a211-40e6-dd2d-c213a29a30df"
      },
      "source": [
        "##O dataset do Mnist consiste de 70,000 imagens de digitos escritos à mão, de dimensões 28x28 pixel\r\n",
        "##Ele já vem dividido entre training set e testing set, contendo 60,000 e 10,000 imagens, respectivamente\r\n",
        "mnist_dataset, mnist_info = tfds.load(name = 'mnist', with_info = True, as_supervised = True)"
      ],
      "execution_count": 4,
      "outputs": [
        {
          "output_type": "stream",
          "text": [
            "\u001b[1mDownloading and preparing dataset mnist/3.0.1 (download: 11.06 MiB, generated: 21.00 MiB, total: 32.06 MiB) to /root/tensorflow_datasets/mnist/3.0.1...\u001b[0m\n"
          ],
          "name": "stdout"
        },
        {
          "output_type": "stream",
          "text": [
            "WARNING:absl:Dataset mnist is hosted on GCS. It will automatically be downloaded to your\n",
            "local data directory. If you'd instead prefer to read directly from our public\n",
            "GCS bucket (recommended if you're running on GCP), you can instead pass\n",
            "`try_gcs=True` to `tfds.load` or set `data_dir=gs://tfds-data/datasets`.\n",
            "\n"
          ],
          "name": "stderr"
        },
        {
          "output_type": "display_data",
          "data": {
            "application/vnd.jupyter.widget-view+json": {
              "model_id": "6b20cc2a20824963a089cae469b6d382",
              "version_minor": 0,
              "version_major": 2
            },
            "text/plain": [
              "HBox(children=(FloatProgress(value=0.0, description='Dl Completed...', max=4.0, style=ProgressStyle(descriptio…"
            ]
          },
          "metadata": {
            "tags": []
          }
        },
        {
          "output_type": "stream",
          "text": [
            "\n",
            "\n",
            "\u001b[1mDataset mnist downloaded and prepared to /root/tensorflow_datasets/mnist/3.0.1. Subsequent calls will reuse this data.\u001b[0m\n"
          ],
          "name": "stdout"
        }
      ]
    },
    {
      "cell_type": "code",
      "metadata": {
        "colab": {
          "base_uri": "https://localhost:8080/"
        },
        "id": "8aCpbJF-Uc5h",
        "outputId": "0acb45aa-1e78-4c1c-e0d2-5e2c1c923622"
      },
      "source": [
        "##Aqui podemos ter algumas informações sobre como o mnist_dataset é composto\r\n",
        "print(mnist_info.splits)\r\n",
        "print(mnist_info.features)"
      ],
      "execution_count": 5,
      "outputs": [
        {
          "output_type": "stream",
          "text": [
            "{'test': <tfds.core.SplitInfo num_examples=10000>, 'train': <tfds.core.SplitInfo num_examples=60000>}\n",
            "FeaturesDict({\n",
            "    'image': Image(shape=(28, 28, 1), dtype=tf.uint8),\n",
            "    'label': ClassLabel(shape=(), dtype=tf.int64, num_classes=10),\n",
            "})\n"
          ],
          "name": "stdout"
        }
      ]
    },
    {
      "cell_type": "code",
      "metadata": {
        "id": "z4wUAOktVQ9w"
      },
      "source": [
        "##Dividindo o dataset inteiro entre dataset de treino e de test\r\n",
        "mnist_train, mnist_test = mnist_dataset['train'], mnist_dataset['test']"
      ],
      "execution_count": 6,
      "outputs": []
    },
    {
      "cell_type": "code",
      "metadata": {
        "colab": {
          "base_uri": "https://localhost:8080/"
        },
        "id": "HQK9eJCXVtNN",
        "outputId": "dadbec2d-4ea2-4742-fcb0-cf97ee84983e"
      },
      "source": [
        "mnist_train.element_spec"
      ],
      "execution_count": 7,
      "outputs": [
        {
          "output_type": "execute_result",
          "data": {
            "text/plain": [
              "(TensorSpec(shape=(28, 28, 1), dtype=tf.uint8, name=None),\n",
              " TensorSpec(shape=(), dtype=tf.int64, name=None))"
            ]
          },
          "metadata": {
            "tags": []
          },
          "execution_count": 7
        }
      ]
    },
    {
      "cell_type": "markdown",
      "metadata": {
        "id": "xPdVa_CKF8gQ"
      },
      "source": [
        "##Com um entendimento melhor sobre nosso dataset, podemos começar a tratá-lo"
      ]
    },
    {
      "cell_type": "markdown",
      "metadata": {
        "id": "R59c5roJ9Rze"
      },
      "source": [
        "##Algo importante para nosso pré processamento, é escalonar os valores dos dados\r\n",
        "###Os valores padrões estão numa escala de cinza de 0 a 255, porém, é interessante mudar seu domínio para valores entre 0 e 1"
      ]
    },
    {
      "cell_type": "code",
      "metadata": {
        "id": "OvyaEq0h9iwd"
      },
      "source": [
        "##Aqui nos escalonamos os valores de cada dado que está entre 0 e 255 para um float entre 0 e 1\r\n",
        "def scale(image, label):\r\n",
        "\r\n",
        "  image = tf.cast(image, tf.float32)\r\n",
        "  image = image/255.0\r\n",
        "\r\n",
        "  return image, label"
      ],
      "execution_count": 8,
      "outputs": []
    },
    {
      "cell_type": "code",
      "metadata": {
        "id": "sdm_5pngZaq6"
      },
      "source": [
        "##E aplicamos esta transformação nos nossos dados\r\n",
        "scaled_train_and_validation_data = mnist_train.map(scale)\r\n",
        "test_data = mnist_test.map(scale)"
      ],
      "execution_count": 9,
      "outputs": []
    },
    {
      "cell_type": "markdown",
      "metadata": {
        "id": "NwWNdgvfJvpx"
      },
      "source": [
        "##Agora podemos criar nosso set de validation e embaralhar nossos dados"
      ]
    },
    {
      "cell_type": "code",
      "metadata": {
        "id": "6Rp-4ngBJelb"
      },
      "source": [
        "##Separando o número de dados para nosso set de validation\r\n",
        "num_validation_samples = 0.1666667 * mnist_info.splits['train'].num_examples\r\n",
        "num_validation_samples = tf.cast(num_validation_samples, tf.int64)"
      ],
      "execution_count": 10,
      "outputs": []
    },
    {
      "cell_type": "code",
      "metadata": {
        "id": "o_jbxtJfLSeq"
      },
      "source": [
        "num_test_samples = mnist_info.splits['test'].num_examples\r\n",
        "num_test_samples = tf.cast(num_test_samples, tf.int64)"
      ],
      "execution_count": 11,
      "outputs": []
    },
    {
      "cell_type": "code",
      "metadata": {
        "id": "SJcwHq2EbEgX"
      },
      "source": [
        "BUFFER_SIZE = 10000\r\n",
        "shuffled_train_val_data = scaled_train_and_validation_data.shuffle(BUFFER_SIZE)\r\n",
        "\r\n",
        "validation_data = shuffled_train_val_data.take(num_validation_samples)\r\n",
        "train_data = shuffled_train_val_data.skip(num_validation_samples)\r\n",
        "\r\n",
        "BATCH_SIZE = 100\r\n",
        "train_data = train_data.batch(BATCH_SIZE)\r\n",
        "validation_data = validation_data.batch(num_validation_samples)\r\n",
        "test_data = test_data.batch(num_test_samples)\r\n",
        "\r\n",
        "validation_inputs, validation_targets = next(iter(validation_data))"
      ],
      "execution_count": 12,
      "outputs": []
    },
    {
      "cell_type": "markdown",
      "metadata": {
        "id": "2C5ZmS7Cu61M"
      },
      "source": [
        "#Assim, podemos começar a modelar a nossa rede neural"
      ]
    },
    {
      "cell_type": "code",
      "metadata": {
        "id": "9dFaXECHcMM6"
      },
      "source": [
        "##Criando a arquitetura da nossa rede neural\r\n",
        "model = tf.keras.Sequential([\r\n",
        "                             tf.keras.layers.Conv2D(64, (3, 3), activation = 'relu', kernel_initializer = 'he_uniform', input_shape = (28, 28, 1)),\r\n",
        "                             tf.keras.layers.MaxPooling2D((2, 2)),\r\n",
        "                             tf.keras.layers.Flatten(),\r\n",
        "                             tf.keras.layers.Dense(64, activation = 'relu'),\r\n",
        "                             tf.keras.layers.Dense(10, activation = 'softmax')\r\n",
        "])"
      ],
      "execution_count": 13,
      "outputs": []
    },
    {
      "cell_type": "code",
      "metadata": {
        "colab": {
          "base_uri": "https://localhost:8080/"
        },
        "id": "S28giIqgcRxf",
        "outputId": "2d20b629-70f8-4d73-8c81-c6b1dfae9004"
      },
      "source": [
        "##Aqui podemos visualizar sua estrutura\r\n",
        "model.summary()"
      ],
      "execution_count": 14,
      "outputs": [
        {
          "output_type": "stream",
          "text": [
            "Model: \"sequential\"\n",
            "_________________________________________________________________\n",
            "Layer (type)                 Output Shape              Param #   \n",
            "=================================================================\n",
            "conv2d (Conv2D)              (None, 26, 26, 64)        640       \n",
            "_________________________________________________________________\n",
            "max_pooling2d (MaxPooling2D) (None, 13, 13, 64)        0         \n",
            "_________________________________________________________________\n",
            "flatten (Flatten)            (None, 10816)             0         \n",
            "_________________________________________________________________\n",
            "dense (Dense)                (None, 64)                692288    \n",
            "_________________________________________________________________\n",
            "dense_1 (Dense)              (None, 10)                650       \n",
            "=================================================================\n",
            "Total params: 693,578\n",
            "Trainable params: 693,578\n",
            "Non-trainable params: 0\n",
            "_________________________________________________________________\n"
          ],
          "name": "stdout"
        }
      ]
    },
    {
      "cell_type": "code",
      "metadata": {
        "id": "vV2zseNUcUts"
      },
      "source": [
        "model.compile(optimizer = 'adam', loss = 'sparse_categorical_crossentropy', metrics = ['accuracy'])"
      ],
      "execution_count": 15,
      "outputs": []
    },
    {
      "cell_type": "markdown",
      "metadata": {
        "id": "pCOlSSisckDa"
      },
      "source": [
        "##Então, chegou a hora de treinar nossa rede nos nossos dados"
      ]
    },
    {
      "cell_type": "code",
      "metadata": {
        "colab": {
          "base_uri": "https://localhost:8080/"
        },
        "id": "U_jW1Cv1cioV",
        "outputId": "5760c28c-e0ab-4703-fa41-f6ad67566a3e"
      },
      "source": [
        "max_epochs = 10\r\n",
        "\r\n",
        "call_back = tf.keras.callbacks.EarlyStopping(monitor = 'val_loss', patience = 2)\r\n",
        "\r\n",
        "model.fit(\r\n",
        "          train_data,\r\n",
        "          batch_size = 128,\r\n",
        "          epochs = max_epochs,\r\n",
        "          validation_data = (validation_inputs, validation_targets),\r\n",
        "          verbose = 2\r\n",
        ")"
      ],
      "execution_count": 17,
      "outputs": [
        {
          "output_type": "stream",
          "text": [
            "Epoch 1/10\n",
            "500/500 - 5s - loss: 0.1901 - accuracy: 0.9402 - val_loss: 0.0839 - val_accuracy: 0.9755\n",
            "Epoch 2/10\n",
            "500/500 - 3s - loss: 0.0633 - accuracy: 0.9807 - val_loss: 0.0547 - val_accuracy: 0.9831\n",
            "Epoch 3/10\n",
            "500/500 - 3s - loss: 0.0392 - accuracy: 0.9882 - val_loss: 0.0426 - val_accuracy: 0.9882\n",
            "Epoch 4/10\n",
            "500/500 - 3s - loss: 0.0287 - accuracy: 0.9909 - val_loss: 0.0385 - val_accuracy: 0.9892\n",
            "Epoch 5/10\n",
            "500/500 - 3s - loss: 0.0204 - accuracy: 0.9936 - val_loss: 0.0333 - val_accuracy: 0.9904\n",
            "Epoch 6/10\n",
            "500/500 - 3s - loss: 0.0156 - accuracy: 0.9954 - val_loss: 0.0319 - val_accuracy: 0.9909\n",
            "Epoch 7/10\n",
            "500/500 - 3s - loss: 0.0134 - accuracy: 0.9960 - val_loss: 0.0237 - val_accuracy: 0.9939\n",
            "Epoch 8/10\n",
            "500/500 - 3s - loss: 0.0120 - accuracy: 0.9965 - val_loss: 0.0253 - val_accuracy: 0.9935\n",
            "Epoch 9/10\n",
            "500/500 - 3s - loss: 0.0084 - accuracy: 0.9977 - val_loss: 0.0193 - val_accuracy: 0.9953\n",
            "Epoch 10/10\n",
            "500/500 - 3s - loss: 0.0065 - accuracy: 0.9981 - val_loss: 0.0163 - val_accuracy: 0.9961\n"
          ],
          "name": "stdout"
        },
        {
          "output_type": "execute_result",
          "data": {
            "text/plain": [
              "<tensorflow.python.keras.callbacks.History at 0x7f7534c52ba8>"
            ]
          },
          "metadata": {
            "tags": []
          },
          "execution_count": 17
        }
      ]
    },
    {
      "cell_type": "markdown",
      "metadata": {
        "id": "wZtMYIZUebOF"
      },
      "source": [
        "##Com isso, podemos testar nossa rede treinada com o nosso set de treino, para verficar a real precisão dela"
      ]
    },
    {
      "cell_type": "code",
      "metadata": {
        "colab": {
          "base_uri": "https://localhost:8080/"
        },
        "id": "rRD0Gs-mdVfm",
        "outputId": "7a3efe77-f0a7-43e7-d5ad-4abb9fd656a0"
      },
      "source": [
        "test_loss, test_accuracy = model.evaluate(test_data)"
      ],
      "execution_count": 23,
      "outputs": [
        {
          "output_type": "stream",
          "text": [
            "1/1 [==============================] - 0s 2ms/step - loss: 0.0452 - accuracy: 0.9878\n"
          ],
          "name": "stdout"
        }
      ]
    },
    {
      "cell_type": "code",
      "metadata": {
        "colab": {
          "base_uri": "https://localhost:8080/"
        },
        "id": "3o1hjanZezc-",
        "outputId": "b2c26fa0-524f-473d-b3e6-85fbd7b64d38"
      },
      "source": [
        "print('A precisão da nossa rede neural é de: {0:.2f}%.\\nE a nossa perda é de: {1:.2f}'.format(test_accuracy*100, test_loss))"
      ],
      "execution_count": 24,
      "outputs": [
        {
          "output_type": "stream",
          "text": [
            "A precisão da nossa rede neural é de: 98.78%.\n",
            "E a nossa perda é de: 0.05\n"
          ],
          "name": "stdout"
        }
      ]
    },
    {
      "cell_type": "code",
      "metadata": {
        "id": "gEFnKLsPfLDs"
      },
      "source": [
        ""
      ],
      "execution_count": null,
      "outputs": []
    }
  ]
}